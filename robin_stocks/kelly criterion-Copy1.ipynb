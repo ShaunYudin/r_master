{
 "cells": [
  {
   "cell_type": "code",
   "execution_count": 2,
   "metadata": {},
   "outputs": [],
   "source": [
    "from sympy import *\n",
    "import numpy as np\n",
    "from random import randint\n",
    "import pandas as pd"
   ]
  },
  {
   "cell_type": "code",
   "execution_count": 3,
   "metadata": {},
   "outputs": [],
   "source": [
    "x, b, p = symbols('x b p')"
   ]
  },
  {
   "cell_type": "code",
   "execution_count": 4,
   "metadata": {},
   "outputs": [],
   "source": [
    "b = 15#.15#(4941/800)# think 10 to 1\n",
    "p = .0\n"
   ]
  },
  {
   "cell_type": "code",
   "execution_count": 5,
   "metadata": {},
   "outputs": [
    {
     "data": {
      "text/plain": [
       "array([-0.94051068, -0.32392309,  2.18374862,  0.70015743,  0.33519801,\n",
       "        0.3848279 ])"
      ]
     },
     "execution_count": 5,
     "metadata": {},
     "output_type": "execute_result"
    }
   ],
   "source": [
    "np.random.randn(6)"
   ]
  },
  {
   "cell_type": "code",
   "execution_count": 6,
   "metadata": {},
   "outputs": [
    {
     "data": {
      "text/plain": [
       "[0.166666666666667]"
      ]
     },
     "execution_count": 6,
     "metadata": {},
     "output_type": "execute_result"
    }
   ],
   "source": [
    "p1 = .5 \n",
    "b1 = 1.5\n",
    "p2 = .5\n",
    "b2 = -1\n",
    "p3 = 0\n",
    "b3 = 0\n",
    "y = p1 * log(1 + b1 * x) + p2 * log(1 + b2 * x)\n",
    "solve(diff(y, x), x)\n",
    "\n",
    "\n"
   ]
  },
  {
   "cell_type": "code",
   "execution_count": 7,
   "metadata": {},
   "outputs": [
    {
     "data": {
      "text/plain": [
       "[]"
      ]
     },
     "execution_count": 7,
     "metadata": {},
     "output_type": "execute_result"
    }
   ],
   "source": [
    "y = p * log(1 + b * x) + (1 - p) * log(1 - x)\n",
    "solve(diff(y, x), x)"
   ]
  },
  {
   "cell_type": "code",
   "execution_count": 8,
   "metadata": {},
   "outputs": [
    {
     "name": "stdout",
     "output_type": "stream",
     "text": [
      "1.0*log(1 - x)\n"
     ]
    }
   ],
   "source": [
    "print(y)"
   ]
  },
  {
   "cell_type": "markdown",
   "metadata": {},
   "source": [
    "f^{*} is the fraction of the current bankroll to wager, i.e. how much to bet;\n",
    "{\\displaystyle b}b is the net odds received on the wager (\"{\\displaystyle b}b to 1\"), that is, you could win $b (on top of getting back the wagered $1) for a $1 bet;\n",
    "{\\displaystyle p}p is the probability of winning;\n",
    "{\\displaystyle q}q is the probability of losing, which is {\\displaystyle 1-p}1-p."
   ]
  },
  {
   "cell_type": "code",
   "execution_count": 9,
   "metadata": {},
   "outputs": [],
   "source": [
    "def kelly(b, p):\n",
    "    y = p * log(1 + b * x) + (1 - p) * log(1 - x)\n",
    "    print(solve(diff(y, x), x))\n",
    "  \n",
    "    "
   ]
  },
  {
   "cell_type": "code",
   "execution_count": 10,
   "metadata": {},
   "outputs": [
    {
     "name": "stdout",
     "output_type": "stream",
     "text": [
      "[0.115384615384615]\n"
     ]
    }
   ],
   "source": [
    "b = 1.3\n",
    "p = .50\n",
    "\n",
    "#print((b*p))\n",
    "#print((p)*-1)\n",
    "\n",
    "kelly(b,p)\n",
    "\n",
    "\n",
    "##float(((b*p)-(1-p)/b))*10000"
   ]
  },
  {
   "cell_type": "code",
   "execution_count": 14,
   "metadata": {
    "scrolled": true
   },
   "outputs": [
    {
     "name": "stdout",
     "output_type": "stream",
     "text": [
      "1.098998998998999975\r"
     ]
    }
   ],
   "source": [
    "zz = 0\n",
    "colu = 1000\n",
    "iter = 1000\n",
    "rand_df = pd.DataFrame(columns = range(colu))\n",
    "for c in rand_df.columns:\n",
    "    randd = []\n",
    "    zz = b\n",
    "    for i in range(iter):\n",
    "        \n",
    "        rand = randint(-1, 1)\n",
    "        if rand  == -1:\n",
    "            zz = zz + (-1 * .11 * zz)\n",
    "        elif rand == 1:\n",
    "            zz = zz + (b * .11 * zz)\n",
    "        else:\n",
    "            zz = zz\n",
    "        randd.append(zz)\n",
    "        #print (i/iter, end=\"\\r\")\n",
    "        \n",
    "    print (c / rand_df.columns.max(), end=\"\\r\")    \n",
    "    rand_df[c] = randd\n",
    "    del zz\n",
    "        \n",
    "   \n",
    "    \n"
   ]
  },
  {
   "cell_type": "code",
   "execution_count": null,
   "metadata": {},
   "outputs": [],
   "source": [
    "rand_df"
   ]
  },
  {
   "cell_type": "code",
   "execution_count": null,
   "metadata": {},
   "outputs": [],
   "source": [
    "pd.DataFrame([(min(rand_df.iloc[:,i])) for i in range(colu)]).plot()\n",
    "pd.DataFrame([(max(rand_df.iloc[:,i])) for i in range(colu)]).plot()\n",
    "\n",
    "print(\"min is \" + str(((rand_df.iloc[i,:]).min())))\n",
    "print(\"average is \" + str((rand_df.iloc[i,:]).mean()))"
   ]
  },
  {
   "cell_type": "code",
   "execution_count": null,
   "metadata": {},
   "outputs": [],
   "source": [
    "rand_df.plot()"
   ]
  },
  {
   "cell_type": "code",
   "execution_count": null,
   "metadata": {},
   "outputs": [],
   "source": []
  }
 ],
 "metadata": {
  "kernelspec": {
   "display_name": "Python 3",
   "language": "python",
   "name": "python3"
  },
  "language_info": {
   "codemirror_mode": {
    "name": "ipython",
    "version": 3
   },
   "file_extension": ".py",
   "mimetype": "text/x-python",
   "name": "python",
   "nbconvert_exporter": "python",
   "pygments_lexer": "ipython3",
   "version": "3.7.4"
  }
 },
 "nbformat": 4,
 "nbformat_minor": 4
}
