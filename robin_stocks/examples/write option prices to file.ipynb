{
 "cells": [
  {
   "cell_type": "code",
   "execution_count": 2,
   "metadata": {},
   "outputs": [
    {
     "name": "stdout",
     "output_type": "stream",
     "text": [
      "Error in request_post: HTTPSConnectionPool(host='api.robinhood.com', port=443): Max retries exceeded with url: /oauth2/token/ (Caused by NewConnectionError('<urllib3.connection.VerifiedHTTPSConnection object at 0x103bb89d0>: Failed to establish a new connection: [Errno 8] nodename nor servname provided, or not known'))\n"
     ]
    },
    {
     "ename": "TypeError",
     "evalue": "argument of type 'NoneType' is not iterable",
     "output_type": "error",
     "traceback": [
      "\u001b[0;31m---------------------------------------------------------------------------\u001b[0m",
      "\u001b[0;31mTypeError\u001b[0m                                 Traceback (most recent call last)",
      "\u001b[0;32m<ipython-input-2-d7501cf79948>\u001b[0m in \u001b[0;36m<module>\u001b[0;34m\u001b[0m\n\u001b[1;32m     14\u001b[0m \u001b[0;31m#!!!\u001b[0m\u001b[0;34m\u001b[0m\u001b[0;34m\u001b[0m\u001b[0;34m\u001b[0m\u001b[0m\n\u001b[1;32m     15\u001b[0m \u001b[0;34m\u001b[0m\u001b[0m\n\u001b[0;32m---> 16\u001b[0;31m \u001b[0mlogin\u001b[0m \u001b[0;34m=\u001b[0m \u001b[0mr\u001b[0m\u001b[0;34m.\u001b[0m\u001b[0mlogin\u001b[0m\u001b[0;34m(\u001b[0m\u001b[0musername\u001b[0m\u001b[0;34m,\u001b[0m\u001b[0mpassword\u001b[0m\u001b[0;34m)\u001b[0m\u001b[0;34m\u001b[0m\u001b[0;34m\u001b[0m\u001b[0m\n\u001b[0m",
      "\u001b[0;32m/opt/anaconda3/lib/python3.7/site-packages/robin_stocks/authentication.py\u001b[0m in \u001b[0;36mlogin\u001b[0;34m(username, password, expiresIn, scope, by_sms, store_session)\u001b[0m\n\u001b[1;32m    121\u001b[0m     \u001b[0mdata\u001b[0m \u001b[0;34m=\u001b[0m \u001b[0mhelper\u001b[0m\u001b[0;34m.\u001b[0m\u001b[0mrequest_post\u001b[0m\u001b[0;34m(\u001b[0m\u001b[0murl\u001b[0m\u001b[0;34m,\u001b[0m\u001b[0mpayload\u001b[0m\u001b[0;34m)\u001b[0m\u001b[0;34m\u001b[0m\u001b[0;34m\u001b[0m\u001b[0m\n\u001b[1;32m    122\u001b[0m     \u001b[0;31m# Handle case where mfa or challenge is required.\u001b[0m\u001b[0;34m\u001b[0m\u001b[0;34m\u001b[0m\u001b[0;34m\u001b[0m\u001b[0m\n\u001b[0;32m--> 123\u001b[0;31m     \u001b[0;32mif\u001b[0m \u001b[0;34m'mfa_required'\u001b[0m \u001b[0;32min\u001b[0m \u001b[0mdata\u001b[0m\u001b[0;34m:\u001b[0m\u001b[0;34m\u001b[0m\u001b[0;34m\u001b[0m\u001b[0m\n\u001b[0m\u001b[1;32m    124\u001b[0m         \u001b[0mmfa_token\u001b[0m \u001b[0;34m=\u001b[0m \u001b[0minput\u001b[0m\u001b[0;34m(\u001b[0m\u001b[0;34m\"Please type in the MFA code: \"\u001b[0m\u001b[0;34m)\u001b[0m\u001b[0;34m\u001b[0m\u001b[0;34m\u001b[0m\u001b[0m\n\u001b[1;32m    125\u001b[0m         \u001b[0mpayload\u001b[0m\u001b[0;34m[\u001b[0m\u001b[0;34m'mfa_code'\u001b[0m\u001b[0;34m]\u001b[0m \u001b[0;34m=\u001b[0m \u001b[0mmfa_token\u001b[0m\u001b[0;34m\u001b[0m\u001b[0;34m\u001b[0m\u001b[0m\n",
      "\u001b[0;31mTypeError\u001b[0m: argument of type 'NoneType' is not iterable"
     ]
    }
   ],
   "source": [
    "import robin_stocks as r\n",
    "import os\n",
    "import datetime\n",
    "import time as t\n",
    "\n",
    "'''\n",
    "This is an example script that will print out options data every 10 seconds for 1 minute.\n",
    "It also saves the data to a txt file. The txt file is saved in the same directory as this code.\n",
    "'''\n",
    "\n",
    "#!!! Fill out username and password\n",
    "username = 'shaunyudin@gmail.com'\n",
    "password = 'YQ9BNy3!&hN4yq^x'\n",
    "#!!!\n",
    "\n",
    "login = r.login(username,password)"
   ]
  },
  {
   "cell_type": "code",
   "execution_count": null,
   "metadata": {},
   "outputs": [],
   "source": [
    "\n",
    "\n",
    "#!!! fill out the specific option information\n",
    "strike = 150.0\n",
    "date = \"2019-06-21\"\n",
    "stock = \"V\"\n",
    "optionType = \"call\" #or \"put\"\n",
    "#!!!\n",
    "\n",
    "# File saving variables\n",
    "minutesToTrack = 1 #in minutes\n",
    "PrintInterval = 10 #in seconds\n",
    "endTime = t.time() + 60 * minutesToTrack\n",
    "fileName = \"options.txt\"\n",
    "writeType = \"w\" #or enter \"a\" to have it continuously append every time script is run\n",
    "#\n",
    "\n",
    "os.chdir(os.path.dirname(__file__))\n",
    "path = os.getcwd()\n",
    "filename = os.path.join(path,fileName)\n",
    "fileStream = open(filename,mode=writeType)\n",
    "\n",
    "while t.time() < endTime:\n",
    "    time = str(datetime.datetime.now())\n",
    "    #Both write and print the data so that you can view it as it runs.\n",
    "    fileStream.write(\"\\n\")\n",
    "    fileStream.write(time)\n",
    "    print(time)\n",
    "    #Get the data\n",
    "    instrument_Data = r.get_option_instrument_data(stock,date,strike,optionType)\n",
    "    market_Data = r.get_option_market_data(stock,date,strike,optionType)\n",
    "\n",
    "    fileStream.write(\"\\n\")\n",
    "    fileStream.write(\"{} Instrument Data {}\".format(\"=\"*30,\"=\"*30))\n",
    "    print(\"{} Instrument Data {}\".format(\"=\"*30,\"=\"*30))\n",
    "    #Instrument_Data is a dictionary, and the key/value pairs can be accessed with .items()\n",
    "    for key, value in instrument_Data.items():\n",
    "        fileStream.write(\"\\n\")\n",
    "        fileStream.write(\"key: {:<25} value: {}\".format(key,value))\n",
    "        print(\"key: {:<25} value: {}\".format(key,value))\n",
    "\n",
    "    fileStream.write(\"\\n\")\n",
    "    fileStream.write(\"{} Market Data {}\".format(\"=\"*30,\"=\"*30))\n",
    "    print(\"{} Market Data {}\".format(\"=\"*30,\"=\"*30))\n",
    "\n",
    "    for key, value in market_Data.items():\n",
    "        fileStream.write(\"\\n\")\n",
    "        fileStream.write(\"key: {:<25} value: {}\".format(key,value))\n",
    "        print(\"key: {:<25} value: {}\".format(key,value))\n",
    "\n",
    "    t.sleep(PrintInterval)\n",
    "\n",
    "#make sure to close the file stream when you are done with it.\n",
    "fileStream.close()\n"
   ]
  },
  {
   "cell_type": "code",
   "execution_count": null,
   "metadata": {},
   "outputs": [],
   "source": []
  }
 ],
 "metadata": {
  "kernelspec": {
   "display_name": "Python 3",
   "language": "python",
   "name": "python3"
  },
  "language_info": {
   "codemirror_mode": {
    "name": "ipython",
    "version": 3
   },
   "file_extension": ".py",
   "mimetype": "text/x-python",
   "name": "python",
   "nbconvert_exporter": "python",
   "pygments_lexer": "ipython3",
   "version": "3.7.4"
  }
 },
 "nbformat": 4,
 "nbformat_minor": 2
}
