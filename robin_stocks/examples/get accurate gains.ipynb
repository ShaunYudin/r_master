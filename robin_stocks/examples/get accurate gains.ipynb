{
 "cells": [
  {
   "cell_type": "code",
   "execution_count": 1,
   "metadata": {},
   "outputs": [
    {
     "name": "stdout",
     "output_type": "stream",
     "text": [
      "ERROR: There was an issue loading pickle file. Authentication may be expired - logging in normally.\n",
      "Enter Robinhood code for validation: 668867\n",
      "The total money invested is 140041.43\n",
      "The net worth has increased 1.1466% due to dividends\n",
      "The net worth has increased -63.580506% due to other gains\n"
     ]
    }
   ],
   "source": [
    "import robin_stocks as r\n",
    "\n",
    "'''\n",
    "Robinhood includes dividends as part of your net gain. This script removes\n",
    "dividends from net gain to figure out how much your stocks/options have paid\n",
    "off.\n",
    "\n",
    "Note: load_portfolio_profile() contains some other useful breakdowns of equity.\n",
    "Print profileData and see what other values you can play around with.\n",
    "\n",
    "'''\n",
    "\n",
    "#!!! Fill out username and password\n",
    "username = ''\n",
    "password = ''\n",
    "#!!!\n",
    "\n",
    "login = r.login('shaunyudin@gmail.com', 'YQ9BNy3!&hN4yq^x')\n",
    "\n",
    "profileData = r.load_portfolio_profile()\n",
    "#print(profileData)\n",
    "allTransactions = r.get_bank_transfers()\n",
    "\n",
    "deposits = sum(float(x['amount']) for x in allTransactions if (x['direction'] == 'deposit') and (x['state'] == 'completed'))\n",
    "withdrawals = sum(float(x['amount']) for x in allTransactions if (x['direction'] == 'withdraw') and (x['state'] == 'completed'))\n",
    "money_invested = deposits - withdrawals\n",
    "\n",
    "dividends = r.get_total_dividends()\n",
    "percentDividend = dividends/money_invested*100\n",
    "\n",
    "totalGainMinusDividends =float(profileData['extended_hours_equity'])-dividends-money_invested\n",
    "percentGain = totalGainMinusDividends/money_invested*100\n",
    "\n",
    "print(\"The total money invested is {}\".format(money_invested))\n",
    "print(\"The net worth has increased {:0.5}% due to dividends\".format(percentDividend))\n",
    "print(\"The net worth has increased {:0.8}% due to other gains\".format(percentGain))\n"
   ]
  },
  {
   "cell_type": "code",
   "execution_count": 2,
   "metadata": {},
   "outputs": [
    {
     "data": {
      "text/plain": [
       "{'url': 'https://api.robinhood.com/portfolios/5QW39286/',\n",
       " 'account': 'https://api.robinhood.com/accounts/5QW39286/',\n",
       " 'start_date': '2016-03-17',\n",
       " 'market_value': '80005.6600',\n",
       " 'equity': '52576.6600',\n",
       " 'extended_hours_market_value': '88952.6400',\n",
       " 'extended_hours_equity': '52608.0400',\n",
       " 'extended_hours_portfolio_equity': '52608.0400',\n",
       " 'last_core_market_value': '80005.6600',\n",
       " 'last_core_equity': '52576.6600',\n",
       " 'last_core_portfolio_equity': '52576.6600',\n",
       " 'excess_margin': '-3088.9400',\n",
       " 'excess_maintenance': '12898.2550',\n",
       " 'excess_margin_with_uncleared_deposits': '-3088.9400',\n",
       " 'excess_maintenance_with_uncleared_deposits': '12898.2550',\n",
       " 'equity_previous_close': '42898.1100',\n",
       " 'portfolio_equity_previous_close': '42898.1100',\n",
       " 'adjusted_equity_previous_close': '52898.1100',\n",
       " 'adjusted_portfolio_equity_previous_close': '52898.1100',\n",
       " 'withdrawable_amount': '0.0000',\n",
       " 'unwithdrawable_deposits': '0.0000',\n",
       " 'unwithdrawable_grants': '0.0000'}"
      ]
     },
     "execution_count": 2,
     "metadata": {},
     "output_type": "execute_result"
    }
   ],
   "source": [
    "profileData"
   ]
  },
  {
   "cell_type": "code",
   "execution_count": null,
   "metadata": {},
   "outputs": [],
   "source": [
    "'average_price'"
   ]
  },
  {
   "cell_type": "code",
   "execution_count": null,
   "metadata": {},
   "outputs": [],
   "source": []
  }
 ],
 "metadata": {
  "kernelspec": {
   "display_name": "Python 3",
   "language": "python",
   "name": "python3"
  },
  "language_info": {
   "codemirror_mode": {
    "name": "ipython",
    "version": 3
   },
   "file_extension": ".py",
   "mimetype": "text/x-python",
   "name": "python",
   "nbconvert_exporter": "python",
   "pygments_lexer": "ipython3",
   "version": "3.7.4"
  }
 },
 "nbformat": 4,
 "nbformat_minor": 4
}
